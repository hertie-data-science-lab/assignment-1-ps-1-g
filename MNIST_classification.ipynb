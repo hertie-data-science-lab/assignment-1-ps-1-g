{
 "cells": [
  {
   "cell_type": "markdown",
   "metadata": {},
   "source": [
    "# Problem Set 1 - Neural network implementation\n",
    "\n",
    "Team PS 1 G\n",
    "\n",
    "Team members:\n",
    "- Xiaohan Wu 237867\n",
    "- "
   ]
  },
  {
   "cell_type": "markdown",
   "metadata": {},
   "source": [
    "As described in section \"3 Neural network implementation\" of assignment 1, the goal is to build a shallow neural network from scratch using different approaches. To validate that your code is working and that the network is actually learning something, please use the following MNIST classification task. Finally, please submit proof of the learning progress as described in the assignment."
   ]
  },
  {
   "cell_type": "markdown",
   "metadata": {},
   "source": [
    "## Imports"
   ]
  },
  {
   "cell_type": "code",
   "execution_count": 32,
   "metadata": {},
   "outputs": [],
   "source": [
    "import random\n",
    "import pandas as pd\n",
    "import numpy as np\n",
    "from sklearn import model_selection\n",
    "import sklearn.datasets as sk_datasets\n",
    "import torchvision.datasets as torch_datasets\n",
    "from torchvision import transforms\n",
    "import torch\n",
    "import matplotlib.pyplot as plt\n",
    "\n",
    "from scratch.network import Network\n",
    "from scratch.res_network import ResNetwork\n",
    "from pytorch.network import TorchNetwork\n",
    "from scratch.utils import *\n",
    "\n",
    "import optuna\n",
    "from sklearn.metrics import accuracy_score"
   ]
  },
  {
   "cell_type": "code",
   "execution_count": 33,
   "metadata": {},
   "outputs": [
    {
     "name": "stdout",
     "output_type": "stream",
     "text": [
      "The autoreload extension is already loaded. To reload it, use:\n",
      "  %reload_ext autoreload\n"
     ]
    }
   ],
   "source": [
    "# Automatically load changes in imported modules\n",
    "%load_ext autoreload\n",
    "%autoreload 2\n",
    "\n",
    "# Explicitly set seed for reproducibility\n",
    "GLOBAL_RANDOM_STATE = 42\n",
    "\n",
    "random.seed(GLOBAL_RANDOM_STATE)\n",
    "np.random.seed(GLOBAL_RANDOM_STATE)"
   ]
  },
  {
   "cell_type": "markdown",
   "metadata": {},
   "source": [
    "## A) Neural Network Classifier from Scratch"
   ]
  },
  {
   "cell_type": "markdown",
   "metadata": {},
   "source": [
    "### Data"
   ]
  },
  {
   "cell_type": "code",
   "execution_count": 44,
   "metadata": {},
   "outputs": [],
   "source": [
    "import pandas as pd\n",
    "import numpy as np\n",
    "\n",
    "# Load from local CSV instead of fetch_openml\n",
    "data = pd.read_csv(\"mnist_784.csv\")\n",
    "\n",
    "# Features are all columns except the last one (check your file)\n",
    "x = data.drop(\"class\", axis=1).values.astype(\"float32\") / 255.0\n",
    "y_cat = data[\"class\"].astype(int).values\n",
    "\n",
    "# One-hot encode y\n",
    "y = np.zeros((len(y_cat), 10))\n",
    "for i, val in enumerate(y_cat):\n",
    "    y[i, val] = 1\n",
    "\n",
    "# Use only small subset of data for faster training\n",
    "x = x[:1000]\n",
    "y = y[:1000]\n",
    "\n",
    "# Split data into train and validation set\n",
    "x_train, x_val, y_train, y_val = model_selection.train_test_split(x, y, test_size=0.2, random_state=GLOBAL_RANDOM_STATE)"
   ]
  },
  {
   "cell_type": "markdown",
   "metadata": {},
   "source": [
    "### ML Model & Training"
   ]
  },
  {
   "cell_type": "code",
   "execution_count": 51,
   "metadata": {},
   "outputs": [
    {
     "name": "stdout",
     "output_type": "stream",
     "text": [
      "Epoch: 1, Training Time: 0.12s, Training Accuracy: 86.88%, Validation Accuracy: 79.00%\n",
      "Epoch: 2, Training Time: 0.24s, Training Accuracy: 94.00%, Validation Accuracy: 85.50%\n",
      "Epoch: 3, Training Time: 0.37s, Training Accuracy: 97.00%, Validation Accuracy: 85.50%\n",
      "Epoch: 4, Training Time: 0.50s, Training Accuracy: 98.88%, Validation Accuracy: 88.00%\n",
      "Epoch: 5, Training Time: 0.60s, Training Accuracy: 99.50%, Validation Accuracy: 88.50%\n",
      "Epoch: 6, Training Time: 0.74s, Training Accuracy: 99.88%, Validation Accuracy: 88.00%\n",
      "Epoch: 7, Training Time: 0.85s, Training Accuracy: 100.00%, Validation Accuracy: 88.50%\n",
      "Epoch: 8, Training Time: 0.96s, Training Accuracy: 100.00%, Validation Accuracy: 90.00%\n",
      "Epoch: 9, Training Time: 1.06s, Training Accuracy: 100.00%, Validation Accuracy: 90.00%\n",
      "Epoch: 10, Training Time: 1.17s, Training Accuracy: 100.00%, Validation Accuracy: 90.00%\n",
      "Epoch: 11, Training Time: 1.28s, Training Accuracy: 100.00%, Validation Accuracy: 90.00%\n",
      "Epoch: 12, Training Time: 1.41s, Training Accuracy: 100.00%, Validation Accuracy: 90.50%\n",
      "Epoch: 13, Training Time: 1.53s, Training Accuracy: 100.00%, Validation Accuracy: 90.50%\n",
      "Epoch: 14, Training Time: 1.65s, Training Accuracy: 100.00%, Validation Accuracy: 90.50%\n",
      "Epoch: 15, Training Time: 1.78s, Training Accuracy: 100.00%, Validation Accuracy: 90.50%\n",
      "Epoch: 16, Training Time: 1.91s, Training Accuracy: 100.00%, Validation Accuracy: 90.50%\n",
      "Epoch: 17, Training Time: 2.06s, Training Accuracy: 100.00%, Validation Accuracy: 90.50%\n",
      "Epoch: 18, Training Time: 2.17s, Training Accuracy: 100.00%, Validation Accuracy: 90.50%\n",
      "Epoch: 19, Training Time: 2.30s, Training Accuracy: 100.00%, Validation Accuracy: 90.50%\n",
      "Epoch: 20, Training Time: 2.41s, Training Accuracy: 100.00%, Validation Accuracy: 91.00%\n",
      "Epoch: 21, Training Time: 2.52s, Training Accuracy: 100.00%, Validation Accuracy: 91.00%\n",
      "Epoch: 22, Training Time: 2.66s, Training Accuracy: 100.00%, Validation Accuracy: 91.00%\n",
      "Epoch: 23, Training Time: 2.77s, Training Accuracy: 100.00%, Validation Accuracy: 91.00%\n",
      "Epoch: 24, Training Time: 2.90s, Training Accuracy: 100.00%, Validation Accuracy: 91.00%\n",
      "Epoch: 25, Training Time: 3.02s, Training Accuracy: 100.00%, Validation Accuracy: 91.00%\n",
      "Epoch: 26, Training Time: 3.14s, Training Accuracy: 100.00%, Validation Accuracy: 91.00%\n",
      "Epoch: 27, Training Time: 3.23s, Training Accuracy: 100.00%, Validation Accuracy: 91.00%\n",
      "Epoch: 28, Training Time: 3.36s, Training Accuracy: 100.00%, Validation Accuracy: 91.00%\n",
      "Epoch: 29, Training Time: 3.49s, Training Accuracy: 100.00%, Validation Accuracy: 91.00%\n",
      "Epoch: 30, Training Time: 3.59s, Training Accuracy: 100.00%, Validation Accuracy: 91.00%\n",
      "Epoch: 31, Training Time: 3.71s, Training Accuracy: 100.00%, Validation Accuracy: 91.00%\n",
      "Epoch: 32, Training Time: 3.83s, Training Accuracy: 100.00%, Validation Accuracy: 91.00%\n",
      "Epoch: 33, Training Time: 3.96s, Training Accuracy: 100.00%, Validation Accuracy: 91.00%\n",
      "Epoch: 34, Training Time: 4.08s, Training Accuracy: 100.00%, Validation Accuracy: 91.00%\n",
      "Epoch: 35, Training Time: 4.21s, Training Accuracy: 100.00%, Validation Accuracy: 91.00%\n",
      "Epoch: 36, Training Time: 4.33s, Training Accuracy: 100.00%, Validation Accuracy: 91.00%\n",
      "Epoch: 37, Training Time: 4.47s, Training Accuracy: 100.00%, Validation Accuracy: 91.00%\n",
      "Epoch: 38, Training Time: 4.58s, Training Accuracy: 100.00%, Validation Accuracy: 91.00%\n",
      "Epoch: 39, Training Time: 4.71s, Training Accuracy: 100.00%, Validation Accuracy: 91.00%\n",
      "Epoch: 40, Training Time: 4.83s, Training Accuracy: 100.00%, Validation Accuracy: 91.00%\n",
      "Epoch: 41, Training Time: 4.97s, Training Accuracy: 100.00%, Validation Accuracy: 91.00%\n",
      "Epoch: 42, Training Time: 5.09s, Training Accuracy: 100.00%, Validation Accuracy: 91.50%\n",
      "Epoch: 43, Training Time: 5.19s, Training Accuracy: 100.00%, Validation Accuracy: 91.50%\n",
      "Epoch: 44, Training Time: 5.30s, Training Accuracy: 100.00%, Validation Accuracy: 91.50%\n",
      "Epoch: 45, Training Time: 5.42s, Training Accuracy: 100.00%, Validation Accuracy: 91.50%\n",
      "Epoch: 46, Training Time: 5.55s, Training Accuracy: 100.00%, Validation Accuracy: 91.50%\n",
      "Epoch: 47, Training Time: 5.68s, Training Accuracy: 100.00%, Validation Accuracy: 91.50%\n",
      "Epoch: 48, Training Time: 5.80s, Training Accuracy: 100.00%, Validation Accuracy: 91.50%\n",
      "Epoch: 49, Training Time: 5.91s, Training Accuracy: 100.00%, Validation Accuracy: 91.50%\n",
      "Epoch: 50, Training Time: 6.02s, Training Accuracy: 100.00%, Validation Accuracy: 91.50%\n"
     ]
    }
   ],
   "source": [
    "fnn = Network(sizes=[784, 128, 64, 10], learning_rate=0.1, epochs=50)\n",
    "fnn.fit(x_train, y_train, x_val, y_val, cosine_annealing_lr=False)"
   ]
  },
  {
   "cell_type": "markdown",
   "metadata": {},
   "source": [
    "### Test cosine annealing scheduler"
   ]
  },
  {
   "cell_type": "code",
   "execution_count": 52,
   "metadata": {},
   "outputs": [
    {
     "name": "stdout",
     "output_type": "stream",
     "text": [
      "Epoch: 1, Training Time: 0.13s, Training Accuracy: 100.00%, Validation Accuracy: 91.50%\n",
      "Epoch: 2, Training Time: 0.25s, Training Accuracy: 100.00%, Validation Accuracy: 91.50%\n",
      "Epoch: 3, Training Time: 0.38s, Training Accuracy: 100.00%, Validation Accuracy: 91.50%\n",
      "Epoch: 4, Training Time: 0.49s, Training Accuracy: 100.00%, Validation Accuracy: 91.50%\n",
      "Epoch: 5, Training Time: 0.62s, Training Accuracy: 100.00%, Validation Accuracy: 91.50%\n",
      "Epoch: 6, Training Time: 0.77s, Training Accuracy: 100.00%, Validation Accuracy: 91.50%\n",
      "Epoch: 7, Training Time: 0.89s, Training Accuracy: 100.00%, Validation Accuracy: 91.50%\n",
      "Epoch: 8, Training Time: 1.02s, Training Accuracy: 100.00%, Validation Accuracy: 91.50%\n",
      "Epoch: 9, Training Time: 1.14s, Training Accuracy: 100.00%, Validation Accuracy: 91.50%\n",
      "Epoch: 10, Training Time: 1.27s, Training Accuracy: 100.00%, Validation Accuracy: 91.50%\n",
      "Epoch: 11, Training Time: 1.40s, Training Accuracy: 100.00%, Validation Accuracy: 91.50%\n",
      "Epoch: 12, Training Time: 1.54s, Training Accuracy: 100.00%, Validation Accuracy: 91.50%\n",
      "Epoch: 13, Training Time: 1.67s, Training Accuracy: 100.00%, Validation Accuracy: 91.50%\n",
      "Epoch: 14, Training Time: 1.79s, Training Accuracy: 100.00%, Validation Accuracy: 91.50%\n",
      "Epoch: 15, Training Time: 1.90s, Training Accuracy: 100.00%, Validation Accuracy: 91.50%\n",
      "Epoch: 16, Training Time: 2.02s, Training Accuracy: 100.00%, Validation Accuracy: 91.50%\n",
      "Epoch: 17, Training Time: 2.13s, Training Accuracy: 100.00%, Validation Accuracy: 91.50%\n",
      "Epoch: 18, Training Time: 2.24s, Training Accuracy: 100.00%, Validation Accuracy: 91.50%\n",
      "Epoch: 19, Training Time: 2.36s, Training Accuracy: 100.00%, Validation Accuracy: 91.50%\n",
      "Epoch: 20, Training Time: 2.47s, Training Accuracy: 100.00%, Validation Accuracy: 91.50%\n",
      "Epoch: 21, Training Time: 2.60s, Training Accuracy: 100.00%, Validation Accuracy: 91.50%\n",
      "Epoch: 22, Training Time: 2.72s, Training Accuracy: 100.00%, Validation Accuracy: 91.50%\n",
      "Epoch: 23, Training Time: 2.84s, Training Accuracy: 100.00%, Validation Accuracy: 91.50%\n",
      "Epoch: 24, Training Time: 2.97s, Training Accuracy: 100.00%, Validation Accuracy: 91.50%\n",
      "Epoch: 25, Training Time: 3.10s, Training Accuracy: 100.00%, Validation Accuracy: 91.50%\n",
      "Epoch: 26, Training Time: 3.24s, Training Accuracy: 100.00%, Validation Accuracy: 91.50%\n",
      "Epoch: 27, Training Time: 3.37s, Training Accuracy: 100.00%, Validation Accuracy: 91.50%\n",
      "Epoch: 28, Training Time: 3.50s, Training Accuracy: 100.00%, Validation Accuracy: 91.50%\n",
      "Epoch: 29, Training Time: 3.62s, Training Accuracy: 100.00%, Validation Accuracy: 91.50%\n",
      "Epoch: 30, Training Time: 3.74s, Training Accuracy: 100.00%, Validation Accuracy: 91.50%\n",
      "Epoch: 31, Training Time: 3.88s, Training Accuracy: 100.00%, Validation Accuracy: 91.50%\n",
      "Epoch: 32, Training Time: 4.00s, Training Accuracy: 100.00%, Validation Accuracy: 91.50%\n",
      "Epoch: 33, Training Time: 4.12s, Training Accuracy: 100.00%, Validation Accuracy: 91.50%\n",
      "Epoch: 34, Training Time: 4.23s, Training Accuracy: 100.00%, Validation Accuracy: 91.50%\n",
      "Epoch: 35, Training Time: 4.37s, Training Accuracy: 100.00%, Validation Accuracy: 91.50%\n",
      "Epoch: 36, Training Time: 4.49s, Training Accuracy: 100.00%, Validation Accuracy: 91.50%\n",
      "Epoch: 37, Training Time: 4.60s, Training Accuracy: 100.00%, Validation Accuracy: 91.50%\n",
      "Epoch: 38, Training Time: 4.72s, Training Accuracy: 100.00%, Validation Accuracy: 91.50%\n",
      "Epoch: 39, Training Time: 4.85s, Training Accuracy: 100.00%, Validation Accuracy: 91.50%\n",
      "Epoch: 40, Training Time: 4.96s, Training Accuracy: 100.00%, Validation Accuracy: 91.50%\n",
      "Epoch: 41, Training Time: 5.09s, Training Accuracy: 100.00%, Validation Accuracy: 91.50%\n",
      "Epoch: 42, Training Time: 5.20s, Training Accuracy: 100.00%, Validation Accuracy: 91.50%\n",
      "Epoch: 43, Training Time: 5.32s, Training Accuracy: 100.00%, Validation Accuracy: 91.50%\n",
      "Epoch: 44, Training Time: 5.45s, Training Accuracy: 100.00%, Validation Accuracy: 91.50%\n",
      "Epoch: 45, Training Time: 5.57s, Training Accuracy: 100.00%, Validation Accuracy: 91.50%\n",
      "Epoch: 46, Training Time: 5.70s, Training Accuracy: 100.00%, Validation Accuracy: 91.50%\n",
      "Epoch: 47, Training Time: 5.81s, Training Accuracy: 100.00%, Validation Accuracy: 91.50%\n",
      "Epoch: 48, Training Time: 5.94s, Training Accuracy: 100.00%, Validation Accuracy: 91.50%\n",
      "Epoch: 49, Training Time: 6.08s, Training Accuracy: 100.00%, Validation Accuracy: 91.50%\n",
      "Epoch: 50, Training Time: 6.20s, Training Accuracy: 100.00%, Validation Accuracy: 91.50%\n"
     ]
    }
   ],
   "source": [
    "fnn.fit(x_train, y_train, x_val, y_val, cosine_annealing_lr=True)"
   ]
  },
  {
   "cell_type": "markdown",
   "metadata": {},
   "source": [
    "### Test residual neural network"
   ]
  },
  {
   "cell_type": "code",
   "execution_count": 57,
   "metadata": {},
   "outputs": [
    {
     "name": "stdout",
     "output_type": "stream",
     "text": [
      "Epoch: 1, Training Time: 0.15s, Training Accuracy: 52.25%, Validation Accuracy: 52.00%\n",
      "Epoch: 2, Training Time: 0.30s, Training Accuracy: 72.75%, Validation Accuracy: 72.00%\n",
      "Epoch: 3, Training Time: 0.45s, Training Accuracy: 80.25%, Validation Accuracy: 78.50%\n",
      "Epoch: 4, Training Time: 0.59s, Training Accuracy: 83.38%, Validation Accuracy: 82.00%\n",
      "Epoch: 5, Training Time: 0.79s, Training Accuracy: 86.62%, Validation Accuracy: 82.00%\n",
      "Epoch: 6, Training Time: 0.94s, Training Accuracy: 88.75%, Validation Accuracy: 82.50%\n",
      "Epoch: 7, Training Time: 1.08s, Training Accuracy: 90.00%, Validation Accuracy: 83.00%\n",
      "Epoch: 8, Training Time: 1.24s, Training Accuracy: 91.25%, Validation Accuracy: 84.00%\n",
      "Epoch: 9, Training Time: 1.39s, Training Accuracy: 92.62%, Validation Accuracy: 85.00%\n",
      "Epoch: 10, Training Time: 1.54s, Training Accuracy: 93.38%, Validation Accuracy: 85.50%\n",
      "Epoch: 11, Training Time: 1.72s, Training Accuracy: 94.12%, Validation Accuracy: 85.00%\n",
      "Epoch: 12, Training Time: 1.86s, Training Accuracy: 94.50%, Validation Accuracy: 85.50%\n",
      "Epoch: 13, Training Time: 2.00s, Training Accuracy: 94.88%, Validation Accuracy: 85.50%\n",
      "Epoch: 14, Training Time: 2.15s, Training Accuracy: 95.38%, Validation Accuracy: 86.00%\n",
      "Epoch: 15, Training Time: 2.29s, Training Accuracy: 96.12%, Validation Accuracy: 86.50%\n",
      "Epoch: 16, Training Time: 2.44s, Training Accuracy: 96.62%, Validation Accuracy: 86.50%\n",
      "Epoch: 17, Training Time: 2.58s, Training Accuracy: 97.12%, Validation Accuracy: 86.50%\n",
      "Epoch: 18, Training Time: 2.73s, Training Accuracy: 97.38%, Validation Accuracy: 86.50%\n",
      "Epoch: 19, Training Time: 2.87s, Training Accuracy: 97.75%, Validation Accuracy: 86.50%\n",
      "Epoch: 20, Training Time: 3.02s, Training Accuracy: 98.00%, Validation Accuracy: 87.00%\n",
      "Epoch: 21, Training Time: 3.18s, Training Accuracy: 98.12%, Validation Accuracy: 87.50%\n",
      "Epoch: 22, Training Time: 3.32s, Training Accuracy: 98.25%, Validation Accuracy: 88.50%\n",
      "Epoch: 23, Training Time: 3.47s, Training Accuracy: 98.75%, Validation Accuracy: 88.50%\n",
      "Epoch: 24, Training Time: 3.61s, Training Accuracy: 99.00%, Validation Accuracy: 89.00%\n",
      "Epoch: 25, Training Time: 3.76s, Training Accuracy: 99.25%, Validation Accuracy: 89.50%\n",
      "Epoch: 26, Training Time: 3.90s, Training Accuracy: 99.38%, Validation Accuracy: 89.50%\n",
      "Epoch: 27, Training Time: 4.06s, Training Accuracy: 99.62%, Validation Accuracy: 89.50%\n",
      "Epoch: 28, Training Time: 4.22s, Training Accuracy: 99.75%, Validation Accuracy: 90.00%\n",
      "Epoch: 29, Training Time: 4.37s, Training Accuracy: 99.88%, Validation Accuracy: 90.00%\n",
      "Epoch: 30, Training Time: 4.51s, Training Accuracy: 99.88%, Validation Accuracy: 90.00%\n",
      "Epoch: 31, Training Time: 4.66s, Training Accuracy: 99.88%, Validation Accuracy: 90.00%\n",
      "Epoch: 32, Training Time: 4.80s, Training Accuracy: 99.88%, Validation Accuracy: 90.00%\n",
      "Epoch: 33, Training Time: 4.96s, Training Accuracy: 99.88%, Validation Accuracy: 90.00%\n",
      "Epoch: 34, Training Time: 5.12s, Training Accuracy: 99.88%, Validation Accuracy: 90.00%\n",
      "Epoch: 35, Training Time: 5.27s, Training Accuracy: 100.00%, Validation Accuracy: 90.00%\n",
      "Epoch: 36, Training Time: 5.42s, Training Accuracy: 100.00%, Validation Accuracy: 90.00%\n",
      "Epoch: 37, Training Time: 5.59s, Training Accuracy: 100.00%, Validation Accuracy: 90.00%\n",
      "Epoch: 38, Training Time: 5.74s, Training Accuracy: 100.00%, Validation Accuracy: 90.00%\n",
      "Epoch: 39, Training Time: 5.89s, Training Accuracy: 100.00%, Validation Accuracy: 90.00%\n",
      "Epoch: 40, Training Time: 6.04s, Training Accuracy: 100.00%, Validation Accuracy: 90.00%\n",
      "Epoch: 41, Training Time: 6.19s, Training Accuracy: 100.00%, Validation Accuracy: 90.00%\n",
      "Epoch: 42, Training Time: 6.34s, Training Accuracy: 100.00%, Validation Accuracy: 90.00%\n",
      "Epoch: 43, Training Time: 6.48s, Training Accuracy: 100.00%, Validation Accuracy: 90.00%\n",
      "Epoch: 44, Training Time: 6.63s, Training Accuracy: 100.00%, Validation Accuracy: 90.00%\n",
      "Epoch: 45, Training Time: 6.78s, Training Accuracy: 100.00%, Validation Accuracy: 90.00%\n",
      "Epoch: 46, Training Time: 6.93s, Training Accuracy: 100.00%, Validation Accuracy: 89.50%\n",
      "Epoch: 47, Training Time: 7.08s, Training Accuracy: 100.00%, Validation Accuracy: 89.50%\n",
      "Epoch: 48, Training Time: 7.22s, Training Accuracy: 100.00%, Validation Accuracy: 89.50%\n",
      "Epoch: 49, Training Time: 7.37s, Training Accuracy: 100.00%, Validation Accuracy: 89.50%\n",
      "Epoch: 50, Training Time: 7.51s, Training Accuracy: 100.00%, Validation Accuracy: 89.50%\n"
     ]
    }
   ],
   "source": [
    "res_nn = ResNetwork(sizes=[784, 128, 128, 10], learning_rate=0.005, epochs=50)\n",
    "res_nn.fit(x_train, y_train, x_val, y_val)"
   ]
  },
  {
   "cell_type": "markdown",
   "metadata": {},
   "source": [
    "## B) Neural Network Classifier using Torch"
   ]
  },
  {
   "cell_type": "markdown",
   "metadata": {},
   "source": [
    "### Data"
   ]
  },
  {
   "cell_type": "code",
   "execution_count": 60,
   "metadata": {},
   "outputs": [
    {
     "ename": "RuntimeError",
     "evalue": "Error downloading train-images-idx3-ubyte.gz:\nTried https://ossci-datasets.s3.amazonaws.com/mnist/, got:\n<urlopen error [SSL: CERTIFICATE_VERIFY_FAILED] certificate verify failed: unable to get local issuer certificate (_ssl.c:1000)>\nTried http://yann.lecun.com/exdb/mnist/, got:\nHTTP Error 404: Not Found\n",
     "output_type": "error",
     "traceback": [
      "\u001b[31m---------------------------------------------------------------------------\u001b[39m",
      "\u001b[31mRuntimeError\u001b[39m                              Traceback (most recent call last)",
      "\u001b[36mCell\u001b[39m\u001b[36m \u001b[39m\u001b[32mIn[60]\u001b[39m\u001b[32m, line 8\u001b[39m\n\u001b[32m      1\u001b[39m \u001b[38;5;66;03m# Define data preprocessing steps\u001b[39;00m\n\u001b[32m      2\u001b[39m \u001b[38;5;66;03m#transform = transforms.Compose([\u001b[39;00m\n\u001b[32m      3\u001b[39m \u001b[38;5;66;03m#                transforms.ToTensor(),\u001b[39;00m\n\u001b[32m   (...)\u001b[39m\u001b[32m      6\u001b[39m \n\u001b[32m      7\u001b[39m \u001b[38;5;66;03m# Download MNIST dataset\u001b[39;00m\n\u001b[32m----> \u001b[39m\u001b[32m8\u001b[39m train_set = \u001b[43mtorch_datasets\u001b[49m\u001b[43m.\u001b[49m\u001b[43mMNIST\u001b[49m\u001b[43m(\u001b[49m\u001b[33;43m'\u001b[39;49m\u001b[33;43mdata\u001b[39;49m\u001b[33;43m'\u001b[39;49m\u001b[43m,\u001b[49m\u001b[43m \u001b[49m\u001b[43mtrain\u001b[49m\u001b[43m=\u001b[49m\u001b[38;5;28;43;01mTrue\u001b[39;49;00m\u001b[43m,\u001b[49m\u001b[43m \u001b[49m\u001b[43mdownload\u001b[49m\u001b[43m=\u001b[49m\u001b[38;5;28;43;01mTrue\u001b[39;49;00m\u001b[43m,\u001b[49m\u001b[43m \u001b[49m\u001b[43mtransform\u001b[49m\u001b[43m=\u001b[49m\u001b[43mtransform\u001b[49m\u001b[43m)\u001b[49m\n\u001b[32m      9\u001b[39m val_set = torch_datasets.MNIST(\u001b[33m'\u001b[39m\u001b[33mdata\u001b[39m\u001b[33m'\u001b[39m, train=\u001b[38;5;28;01mFalse\u001b[39;00m, download=\u001b[38;5;28;01mTrue\u001b[39;00m, transform=transform)\n\u001b[32m     11\u001b[39m \u001b[38;5;66;03m# Use only small subset of data for faster training\u001b[39;00m\n",
      "\u001b[36mFile \u001b[39m\u001b[32m~/Documents/GitHub/assignment-1-ps-1-g/.venv/lib/python3.12/site-packages/torchvision/datasets/mnist.py:100\u001b[39m, in \u001b[36mMNIST.__init__\u001b[39m\u001b[34m(self, root, train, transform, target_transform, download)\u001b[39m\n\u001b[32m     97\u001b[39m     \u001b[38;5;28;01mreturn\u001b[39;00m\n\u001b[32m     99\u001b[39m \u001b[38;5;28;01mif\u001b[39;00m download:\n\u001b[32m--> \u001b[39m\u001b[32m100\u001b[39m     \u001b[38;5;28;43mself\u001b[39;49m\u001b[43m.\u001b[49m\u001b[43mdownload\u001b[49m\u001b[43m(\u001b[49m\u001b[43m)\u001b[49m\n\u001b[32m    102\u001b[39m \u001b[38;5;28;01mif\u001b[39;00m \u001b[38;5;129;01mnot\u001b[39;00m \u001b[38;5;28mself\u001b[39m._check_exists():\n\u001b[32m    103\u001b[39m     \u001b[38;5;28;01mraise\u001b[39;00m \u001b[38;5;167;01mRuntimeError\u001b[39;00m(\u001b[33m\"\u001b[39m\u001b[33mDataset not found. You can use download=True to download it\u001b[39m\u001b[33m\"\u001b[39m)\n",
      "\u001b[36mFile \u001b[39m\u001b[32m~/Documents/GitHub/assignment-1-ps-1-g/.venv/lib/python3.12/site-packages/torchvision/datasets/mnist.py:197\u001b[39m, in \u001b[36mMNIST.download\u001b[39m\u001b[34m(self)\u001b[39m\n\u001b[32m    195\u001b[39m \u001b[38;5;28;01mfor\u001b[39;00m mirror, err \u001b[38;5;129;01min\u001b[39;00m \u001b[38;5;28mzip\u001b[39m(\u001b[38;5;28mself\u001b[39m.mirrors, errors):\n\u001b[32m    196\u001b[39m     s += \u001b[33mf\u001b[39m\u001b[33m\"\u001b[39m\u001b[33mTried \u001b[39m\u001b[38;5;132;01m{\u001b[39;00mmirror\u001b[38;5;132;01m}\u001b[39;00m\u001b[33m, got:\u001b[39m\u001b[38;5;130;01m\\n\u001b[39;00m\u001b[38;5;132;01m{\u001b[39;00m\u001b[38;5;28mstr\u001b[39m(err)\u001b[38;5;132;01m}\u001b[39;00m\u001b[38;5;130;01m\\n\u001b[39;00m\u001b[33m\"\u001b[39m\n\u001b[32m--> \u001b[39m\u001b[32m197\u001b[39m \u001b[38;5;28;01mraise\u001b[39;00m \u001b[38;5;167;01mRuntimeError\u001b[39;00m(s)\n",
      "\u001b[31mRuntimeError\u001b[39m: Error downloading train-images-idx3-ubyte.gz:\nTried https://ossci-datasets.s3.amazonaws.com/mnist/, got:\n<urlopen error [SSL: CERTIFICATE_VERIFY_FAILED] certificate verify failed: unable to get local issuer certificate (_ssl.c:1000)>\nTried http://yann.lecun.com/exdb/mnist/, got:\nHTTP Error 404: Not Found\n"
     ]
    }
   ],
   "source": [
    "# Define data preprocessing steps\n",
    "#transform = transforms.Compose([\n",
    "#                transforms.ToTensor(),\n",
    "#                transforms.Normalize((0.5,), (0.5,))\n",
    "#            ])\n",
    "\n",
    "# Download MNIST dataset\n",
    "train_set = torch_datasets.MNIST('data', train=True, download=True, transform=transform)\n",
    "val_set = torch_datasets.MNIST('data', train=False, download=True, transform=transform)\n",
    "\n",
    "# Use only small subset of data for faster training\n",
    "train_set = torch.utils.data.Subset(train_set, range(1000))\n",
    "val_set = torch.utils.data.Subset(val_set, range(1000))\n",
    "\n",
    "# Utilize PyTorch DataLoader from simplified & harmonized loading of data\n",
    "train_loader = torch.utils.data.DataLoader(train_set, batch_size=1)\n",
    "val_loader = torch.utils.data.DataLoader(val_set, batch_size=1)\n"
   ]
  },
  {
   "cell_type": "markdown",
   "metadata": {},
   "source": [
    "### ML Model & Training"
   ]
  },
  {
   "cell_type": "code",
   "execution_count": null,
   "metadata": {},
   "outputs": [],
   "source": [
    "torch_nn = TorchNetwork(sizes=[784, 128, 64, 10], learning_rate=0.2, epochs=50, random_state=GLOBAL_RANDOM_STATE)\n",
    "torch_nn.fit(train_loader, val_loader)"
   ]
  },
  {
   "cell_type": "markdown",
   "metadata": {},
   "source": [
    "## C) Visualize accuracy & hyperparameter tuning\n",
    "\n",
    "Here, you should compare the accuracy of all trained models. Optionally, you can also show the results of hyperparameter tuning and comment which hyperparameters work best for this task."
   ]
  },
  {
   "cell_type": "code",
   "execution_count": null,
   "metadata": {},
   "outputs": [],
   "source": [
    "### BEGIN SOLUTION ###\n",
    " \n",
    "\n",
    "### END SOLUTION ###"
   ]
  }
 ],
 "metadata": {
  "kernelspec": {
   "display_name": ".venv",
   "language": "python",
   "name": "python3"
  },
  "language_info": {
   "codemirror_mode": {
    "name": "ipython",
    "version": 3
   },
   "file_extension": ".py",
   "mimetype": "text/x-python",
   "name": "python",
   "nbconvert_exporter": "python",
   "pygments_lexer": "ipython3",
   "version": "3.12.0"
  },
  "orig_nbformat": 4
 },
 "nbformat": 4,
 "nbformat_minor": 2
}
